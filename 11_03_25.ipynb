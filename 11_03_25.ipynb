{
  "nbformat": 4,
  "nbformat_minor": 0,
  "metadata": {
    "colab": {
      "provenance": [],
      "authorship_tag": "ABX9TyNULbfFrn/q7feg3qTqju45",
      "include_colab_link": true
    },
    "kernelspec": {
      "name": "python3",
      "display_name": "Python 3"
    },
    "language_info": {
      "name": "python"
    }
  },
  "cells": [
    {
      "cell_type": "markdown",
      "metadata": {
        "id": "view-in-github",
        "colab_type": "text"
      },
      "source": [
        "<a href=\"https://colab.research.google.com/github/Rakshitha149/NLP-AD/blob/main/11_03_25.ipynb\" target=\"_parent\"><img src=\"https://colab.research.google.com/assets/colab-badge.svg\" alt=\"Open In Colab\"/></a>"
      ]
    },
    {
      "cell_type": "code",
      "execution_count": 12,
      "metadata": {
        "id": "23bZS_cVWvZq"
      },
      "outputs": [],
      "source": [
        "import google.generativeai as genai\n",
        "\n",
        "from google.colab import userdata\n",
        "\n",
        "GOOGLE_API_KEY=userdata.get('GOOGLE_API_KEY')\n",
        "\n",
        "genai.configure(api_key=GOOGLE_API_KEY)"
      ]
    },
    {
      "cell_type": "code",
      "source": [
        "import pathlib\n",
        "\n",
        "import textwrap\n",
        "\n",
        "from IPython.display import display, Markdown\n",
        "\n",
        "def to_markdown(text):\n",
        "\n",
        "  text = text.replace('•', '  *')\n",
        "\n",
        "  return Markdown(textwrap.indent(text, '> ', predicate=lambda _: True))\n"
      ],
      "metadata": {
        "id": "yupW90zKWybH"
      },
      "execution_count": 14,
      "outputs": []
    },
    {
      "cell_type": "code",
      "source": [
        "import PIL.Image\n",
        "img = PIL.Image.open('/content/image1.jpg')\n",
        "imgmodel = genai.GenerativeModel('gemini-1.5-flash')\n",
        "model = genai.GenerativeModel('gemini-1.5-flash')\n",
        "response = model.generate_content([\"Write a short, engaging blog post based on this picture.It should include a description of the meal in the photo and talk about my journey meal prepping.\", img],stream=True)\n",
        "response.resolve()"
      ],
      "metadata": {
        "id": "0NZhHXoCWyfP"
      },
      "execution_count": 18,
      "outputs": []
    },
    {
      "cell_type": "code",
      "source": [
        "to_markdown(response.text)"
      ],
      "metadata": {
        "colab": {
          "base_uri": "https://localhost:8080/",
          "height": 495
        },
        "id": "lqh7IBTcWyj9",
        "outputId": "c3eb1b53-cd61-4fea-86cf-7c959d05b7d9"
      },
      "execution_count": 19,
      "outputs": [
        {
          "output_type": "execute_result",
          "data": {
            "text/plain": [
              "<IPython.core.display.Markdown object>"
            ],
            "text/markdown": "> ## My Meal Prep Journey: From Chaos to Calm (and Delicious!)\n> \n> Let's be honest, meal prepping used to be a four-letter word in my vocabulary.  \"Ugh,\" I'd think, picturing hours spent chopping veggies and cleaning up a kitchen battlefield. But then something shifted.  I realized that spending a few hours on the weekend prepping healthy meals meant less stress and healthier choices during the week.\n> \n> This week's triumph? The picture says it all!  Two perfectly portioned containers of teriyaki chicken and veggies over fluffy white rice.  Tender chicken marinated in a sweet and savory teriyaki sauce is perfectly complemented by vibrant roasted red peppers, crunchy carrots, and florets of fresh broccoli.  All nestled comfortably on a bed of steamed rice – it's a complete and satisfying meal that's ready in minutes.\n> \n> My meal prep journey wasn't instantaneous. It started with small steps. I began by prepping one or two components, like chopping vegetables,  then gradually added more until I could prep full meals ahead of time.  I started with simple recipes, like this teriyaki chicken and rice, slowly building confidence as I experimented with more complex dishes.\n> \n> The key, I discovered, is planning and organization. I dedicate a specific time slot on the weekend, put on some music, and get to work.  Knowing I’ve got healthy, delicious meals waiting for me in the fridge makes all the difference. No more last-minute takeout decisions or resorting to unhealthy convenience foods!\n> \n> This is my current routine but I'm looking to expand with things like soups and salads to keep things interesting! If you’re on the fence about meal prepping, trust me, take the leap! It’s an investment in your health and sanity – and the deliciousness is an added bonus!  What are your favourite meal prep meals? Share them in the comments!\n"
          },
          "metadata": {},
          "execution_count": 19
        }
      ]
    },
    {
      "cell_type": "code",
      "source": [
        "response = model.generate_content([\"Generate an accurate caption for this image.\",img])\n",
        "print(response.text)"
      ],
      "metadata": {
        "colab": {
          "base_uri": "https://localhost:8080/",
          "height": 419
        },
        "id": "b1dYRfzPWyn_",
        "outputId": "1d7cd8f0-8c41-4c8d-aa9a-2e116c2c7b44"
      },
      "execution_count": 20,
      "outputs": [
        {
          "output_type": "stream",
          "name": "stdout",
          "text": [
            "Here are a few caption options for the image of two containers of food:\n",
            "\n",
            "**Option 1 (Simple & Descriptive):**\n",
            "\n",
            "> Healthy and delicious meal prep!  Chicken and broccoli with rice.\n",
            "\n",
            "**Option 2 (Slightly More Engaging):**\n",
            "\n",
            "> Lunch goals!  These chicken and veggie bowls are packed with flavor and ready to go. #mealprep #healthyfood #lunchideas\n",
            "\n",
            "\n",
            "**Option 3 (More Detailed):**\n",
            "\n",
            "> Two containers of delicious and healthy meal prep ready for the week! Featuring stir-fried chicken, broccoli, carrots, and fluffy white rice.  Perfect for a quick and nutritious lunch or dinner. #mealprepsunday #healthylifestyle #cleaneating\n",
            "\n",
            "\n",
            "**Option 4 (Question to Engage Audience):**\n",
            "\n",
            "> Meal prepping made easy! What's your favorite healthy meal to prep for the week?  #mealprepideas #healthymeals #foodideas\n",
            "\n",
            "Choose the caption that best suits your intended audience and platform.\n",
            "\n"
          ]
        }
      ]
    },
    {
      "cell_type": "code",
      "source": [
        "from PIL import Image\n",
        "image_path = \"/content/WIN_20250213_11_55_41_Pro.jpg\"\n",
        "image = Image.open(image_path)\n",
        "response = model.generate_content([\"Describe this image in detail.\",image])\n",
        "print(response.text)"
      ],
      "metadata": {
        "colab": {
          "base_uri": "https://localhost:8080/",
          "height": 297
        },
        "id": "kOt30k0SenaO",
        "outputId": "324be20e-0eff-4678-d57f-5854d6ad9436"
      },
      "execution_count": 21,
      "outputs": [
        {
          "output_type": "stream",
          "name": "stdout",
          "text": [
            "Here's a description of the image:\n",
            "\n",
            "Close-up selfie of a young woman with dark hair pulled back into a braid. \n",
            "\n",
            "\n",
            "Here's a breakdown of the details:\n",
            "\n",
            "* **The Woman:** She appears to be of South Asian descent, with dark brown eyes and skin. She's wearing a peach-colored collared shirt under a dark gray blazer. A purple lanyard with visible text (\"Malla Reddy\" is partially legible) is around her neck. Her expression is pleasant, almost neutral.  Her hair is neatly braided and falls down her back.\n",
            "\n",
            "* **The Setting:** The background is blurred but shows an office or computer lab environment. Several Lenovo computers are visible on desks arranged in a row.  The walls are light-colored, and there's a patterned wallpaper visible on a portion of the wall behind the woman.  A ceiling fan and fluorescent lighting fixtures are also seen. Other people are visible in the background, but they are out of focus and their features are not distinguishable.\n",
            "\n",
            "* **The Selfie:** The selfie is taken at a slight angle, showing the woman's upper body and the background. Her right hand is visible, slightly out of focus, gesturing as if she’s holding something small. The overall image quality is that of a casual snapshot, not a professionally taken photo.\n",
            "\n",
            "The image overall gives the impression of a young professional in a workplace setting, possibly taking a quick selfie during a break.\n",
            "\n"
          ]
        }
      ]
    },
    {
      "cell_type": "code",
      "source": [
        "response = model.generate_content([\"What emotions can you detect in this image?\",image])\n",
        "print(response.text)"
      ],
      "metadata": {
        "colab": {
          "base_uri": "https://localhost:8080/",
          "height": 72
        },
        "id": "U5KuRiF-WysL",
        "outputId": "9bb7e65c-a8b9-4dbe-d6f5-523fedc31a11"
      },
      "execution_count": 22,
      "outputs": [
        {
          "output_type": "stream",
          "name": "stdout",
          "text": [
            "The woman in the image appears to be displaying a neutral to slightly positive emotion.  There's no strong expression of happiness, sadness, anger, or fear.  Her expression could be interpreted as calm, content, or perhaps a little shy or reserved.  The slight smile suggests a level of comfort or ease.\n",
            "\n"
          ]
        }
      ]
    },
    {
      "cell_type": "code",
      "source": [
        "from PIL import Image\n",
        "image_path = \"/content/WIN_20250305_11_36_56_Pro.jpg\"\n",
        "image = Image.open(image_path)\n",
        "response = model.generate_content([\"Describe this image in detail.\",image])\n",
        "print(response.text)"
      ],
      "metadata": {
        "colab": {
          "base_uri": "https://localhost:8080/",
          "height": 297
        },
        "id": "rvqkA3DHWyvj",
        "outputId": "8699dfe8-0a88-45ed-e6cd-4d1ee0214672"
      },
      "execution_count": 23,
      "outputs": [
        {
          "output_type": "stream",
          "name": "stdout",
          "text": [
            "Here's a description of the image:\n",
            "\n",
            "Close-up view of two young women, appearing to be of South Asian descent, sitting side-by-side. \n",
            "\n",
            "\n",
            "Here's a breakdown of the details:\n",
            "\n",
            "* **Woman on the left:** She has long, dark brown hair, parted on her left side, and is wearing clear-framed glasses. Her expression is relatively neutral, almost pensive, with her hand resting gently on her chin. She's wearing a patterned blue and white shirt or blouse with a small, indistinct purple lanyard partially visible at her neckline.\n",
            "\n",
            "* **Woman on the right:** She also has long, dark brown hair, and her expression is more relaxed and slightly more smiling than the woman on the left. Her hair is pulled back slightly from her face. She's wearing a dark-colored, patterned top with a purple lanyard clearly visible around her neck, which displays the text \"MALLA REDDY UNIVERSITY\" vertically.\n",
            "\n",
            "* **Background:** The background features a gray wallpaper with a repeating pattern of small, light-gray concentric circles. Behind the women, there are parts of what looks like computer monitors and office-style cubicles visible, suggesting an office or work environment.  The lighting appears to be bright, likely artificial office lighting.\n",
            "\n",
            "* **Overall:** The image seems to be a casual snapshot, possibly a selfie or a quickly taken photo, rather than a formally posed portrait. The focus is primarily on the two women, with the background slightly blurred.\n",
            "\n"
          ]
        }
      ]
    },
    {
      "cell_type": "code",
      "source": [
        "response = model.generate_content([\"What emotions can you detect in this image?\",image])\n",
        "print(response.text)"
      ],
      "metadata": {
        "colab": {
          "base_uri": "https://localhost:8080/",
          "height": 141
        },
        "id": "oK6TCiAmWy9W",
        "outputId": "3f647ca2-600e-4fcb-afc9-753e394b0f7f"
      },
      "execution_count": 24,
      "outputs": [
        {
          "output_type": "stream",
          "name": "stdout",
          "text": [
            "Here's an interpretation of the emotions in the image:\n",
            "\n",
            "The woman on the left appears pensive or contemplative. Her hand resting on her chin and slightly downward gaze suggest thoughtfulness.  There's a calmness about her expression.\n",
            "\n",
            "The woman on the right seems relatively neutral, perhaps slightly reserved or even a little tired. Her expression isn't overtly happy or sad; it's more subdued.  There's nothing overtly negative, just a lack of strong outward emotion.\n",
            "\n"
          ]
        }
      ]
    },
    {
      "cell_type": "code",
      "source": [
        "image_path =\"/quote.jpg\"\n",
        "image = Image.open(image_path)\n",
        "response = model.generate_content([\"Extraxt and reade the text from this image.\",image])\n",
        "print(response.text)"
      ],
      "metadata": {
        "colab": {
          "base_uri": "https://localhost:8080/",
          "height": 121
        },
        "id": "T8o0yu0ueCiY",
        "outputId": "1fd36719-e8d2-4251-c4b8-ccb929b5eb6f"
      },
      "execution_count": 25,
      "outputs": [
        {
          "output_type": "stream",
          "name": "stdout",
          "text": [
            "Here's the text from the image:\n",
            "\n",
            "FAILURE is not the\n",
            "opposite of success\n",
            "it's PART OF\n",
            "SUCCESS\n"
          ]
        }
      ]
    },
    {
      "cell_type": "code",
      "source": [],
      "metadata": {
        "id": "t1LYyNjUeCe9"
      },
      "execution_count": null,
      "outputs": []
    }
  ]
}
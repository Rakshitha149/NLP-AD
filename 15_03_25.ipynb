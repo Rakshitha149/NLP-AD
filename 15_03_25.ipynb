{
  "nbformat": 4,
  "nbformat_minor": 0,
  "metadata": {
    "colab": {
      "provenance": [],
      "authorship_tag": "ABX9TyODvGCx3xiqpYsGgHYnUseK",
      "include_colab_link": true
    },
    "kernelspec": {
      "name": "python3",
      "display_name": "Python 3"
    },
    "language_info": {
      "name": "python"
    }
  },
  "cells": [
    {
      "cell_type": "markdown",
      "metadata": {
        "id": "view-in-github",
        "colab_type": "text"
      },
      "source": [
        "<a href=\"https://colab.research.google.com/github/Rakshitha149/NLP-AD/blob/main/15_03_25.ipynb\" target=\"_parent\"><img src=\"https://colab.research.google.com/assets/colab-badge.svg\" alt=\"Open In Colab\"/></a>"
      ]
    },
    {
      "cell_type": "code",
      "execution_count": 1,
      "metadata": {
        "id": "H-K6_OMpNgDS"
      },
      "outputs": [],
      "source": [
        "# Configure Gemini API\n",
        "\n",
        "import google.generativeai as genai\n",
        "\n",
        "from google.colab import userdata\n",
        "\n",
        "GOOGLE_API_KEY=userdata.get('GOOGLE_API_KEY')\n",
        "\n",
        "genai.configure(api_key=GOOGLE_API_KEY)\n",
        "\n"
      ]
    },
    {
      "cell_type": "code",
      "source": [
        "pip install PyPDF2"
      ],
      "metadata": {
        "colab": {
          "base_uri": "https://localhost:8080/"
        },
        "id": "dpLUh3hGNkV0",
        "outputId": "3b45986e-4f1d-48fe-a091-4e4621f657d8"
      },
      "execution_count": 3,
      "outputs": [
        {
          "output_type": "stream",
          "name": "stdout",
          "text": [
            "Requirement already satisfied: PyPDF2 in /usr/local/lib/python3.11/dist-packages (3.0.1)\n"
          ]
        }
      ]
    },
    {
      "cell_type": "code",
      "source": [
        "import PyPDF2\n",
        "def extract_text_from_pdf(pdf_path):\n",
        "  \"\"\"Extracts text from agiven health report PDF using PyPDF2.\"\"\"\n",
        "  text = \"\"\n",
        "  with open(pdf_path, 'rb') as pdf_file:\n",
        "        pdf_reader = PyPDF2.PdfReader(pdf_file)\n",
        "        for page in pdf_reader.pages:\n",
        "            text += page.extract_text() + \"/n\"\n",
        "  return text\n"
      ],
      "metadata": {
        "id": "JjW8T6UwNkPv"
      },
      "execution_count": 10,
      "outputs": []
    },
    {
      "cell_type": "code",
      "source": [
        "def extract_health_insights(text):\n",
        "  model=genai.GenerativeModel(\"gemini-1.5-flash\")\n",
        "  prompt = f\"Extract key insights from the following health report:\\n\\n{text}\"\n",
        "  response = model.generate_content(prompt)\n",
        "  return response.text\n",
        "\n",
        "pdf_file=\"health_report.pdf\"\n",
        "extracted_text=extract_text_from_pdf(pdf_file)\n",
        "insights=extract_health_insights(extracted_text)\n",
        "print(\"Key Insights:\\n\",insights)"
      ],
      "metadata": {
        "colab": {
          "base_uri": "https://localhost:8080/",
          "height": 505
        },
        "id": "tkc6zUJjNkM6",
        "outputId": "2cb8133a-1a84-44cf-c57e-a2348d95e3d1"
      },
      "execution_count": 11,
      "outputs": [
        {
          "output_type": "stream",
          "name": "stdout",
          "text": [
            "Key Insights:\n",
            " Mr. Kishan Goud's (MR2100003157) health report from February 1st, 2021, reveals the following key insights:\n",
            "\n",
            "**Infectious Disease Screen:**\n",
            "\n",
            "* **Widal Test:** Elevated titers for *Salmonella Typhi* \"O\" (1:160) and \"H\" (1:80) suggest a possible past or present infection with typhoid fever.  The reference range is 1:20, indicating a positive result.  *Salmonella Paratyphi* \"A\" and \"B\" titers were within the normal range.\n",
            "* **Dengue Serology:** Negative results for Dengue NS1 antigen, IgG, and IgM antibodies rule out a current or recent dengue fever infection.\n",
            "* **Malaria Test:** Negative results for both *Plasmodium falciparum* and *Plasmodium vivax* indicate the absence of malaria.\n",
            "\n",
            "**Hematology:**\n",
            "\n",
            "* **Complete Blood Count (CBC):**  Hemoglobin, RBC, WBC, and platelet counts are all within the normal range.  Differential counts show normal neutrophil, lymphocyte, eosinophil, monocyte and basophil levels.  Peripheral blood smear shows normal RBC morphology and WBC count.\n",
            "* **Erythrocyte Sedimentation Rate (ESR):** Elevated ESR (26 mm/hr in the first hour, 52 mm/hr in the second), indicates inflammation or infection. This is consistent with the elevated typhoid titers, but could also be related to other factors.\n",
            "\n",
            "\n",
            "**Biochemistry:**\n",
            "\n",
            "* **Liver Function Tests (LFTs):**  All liver function tests (bilirubin, alkaline phosphatase, SGOT, SGPT, total protein, albumin, globulin, A/G ratio) are within normal ranges.\n",
            "* **Renal Function Test:** Serum creatinine is within the normal range (0.8 mg/dl), indicating normal kidney function.\n",
            "* **Electrolytes:** Sodium is slightly below the lower limit of the normal range (122 mmol/l), while potassium and chloride are within normal ranges.  Further investigation may be needed to assess the low sodium level.\n",
            "* **Blood Glucose:** Random blood glucose is not provided in a numerical format. The range given is 60 - 170 mg/dl.\n",
            "* **HbA1c:**  HbA1c level of 5.4% falls within the normal non-diabetic range (4-6%), indicating good blood glucose control.\n",
            "\n",
            "**Overall:**\n",
            "\n",
            "The most significant finding is the elevated Widal test for *Salmonella Typhi*, suggesting a possible typhoid infection.  The elevated ESR supports the presence of an inflammatory process. The slightly low sodium level warrants further investigation.  All other tests, including those for dengue and malaria, were negative.  The patient's age and other clinical presentation would be needed to fully interpret this report and determine appropriate management.\n",
            "\n"
          ]
        }
      ]
    },
    {
      "cell_type": "code",
      "source": [
        "def summarize_health_report(text):\n",
        "  \"\"\"summarises the health report using Gemini AI.\"\"\"\n",
        "  model = genai.GenerativeModel(\"gemini-1.5-flash\")\n",
        "  prompt = f\"Summarize the following health report in a concise manner:\\n\\n{text}\"\n",
        "  response = model.generate_content(prompt)\n",
        "  return response.text\n",
        "\n",
        "summary = summarize_health_report(extracted_text)\n",
        "print(\"Summary:\\n\", summary)"
      ],
      "metadata": {
        "colab": {
          "base_uri": "https://localhost:8080/",
          "height": 89
        },
        "id": "NRcF38KONkKa",
        "outputId": "3f1749a0-4417-4ca1-f62b-6505bf952525"
      },
      "execution_count": 15,
      "outputs": [
        {
          "output_type": "stream",
          "name": "stdout",
          "text": [
            "Summary:\n",
            " Mr. Kishan Goud's (MR2100003157) blood tests on 01/02/2021 showed:  Elevated ESR (26/52 mm/hr),  Widal test results suggestive of past typhoid exposure (S. Typhi O 1:160, H 1:80),  negative dengue serology (NS1, IgG, IgM), negative malaria test,  normal complete blood count (CBC) with slightly low platelets (2.0 lakhs/cumm), HbA1c 5.4% (within normal range), normal serum creatinine and electrolytes, and normal liver function tests.\n",
            "\n"
          ]
        }
      ]
    },
    {
      "cell_type": "code",
      "source": [
        "def detect_abnormalities(text):\n",
        "  \"\"\"Analyzes lab test results and flags abnormal values.\"\"\"\n",
        "  model = genai.GenerativeModel(\"gemini-1.5-flash\")\n",
        "  prompt = f\"Analyze the lab test results in the following health report and highlight any abnormal values:\\n\\n{text}\"\n",
        "  response = model.generate_content(prompt)\n",
        "  return response.text\n",
        "abnormalities = detect_abnormalities(extracted_text)\n",
        "print(\"Potential Abnormalities:\\n\", abnormalities)"
      ],
      "metadata": {
        "colab": {
          "base_uri": "https://localhost:8080/",
          "height": 349
        },
        "id": "z0EONDk9NkIF",
        "outputId": "469cb79e-199e-4ac7-ac05-b7f0acd713e7"
      },
      "execution_count": 18,
      "outputs": [
        {
          "output_type": "stream",
          "name": "stdout",
          "text": [
            "Potential Abnormalities:\n",
            " Based on the provided lab results, the following values are outside the reference ranges, indicating potential abnormalities:\n",
            "\n",
            "* **Widal Test:**  S. Typhi \"O\" (1:160) and S. Typhi \"H\" (1:80) are significantly higher than the reference range of 1:20. This suggests a possible past or present infection with *Salmonella Typhi*, the bacteria that causes typhoid fever.  The higher \"O\" titer than \"H\" titer is consistent with a past infection.  Further investigation may be warranted.\n",
            "\n",
            "* **ESR (Erythrocyte Sedimentation Rate):** Both the 1st hour (26 mm/hr) and 2nd hour (52 mm/hr) values are significantly elevated above the normal range (0-8 mm/hr for the first hour). This indicates inflammation somewhere in the body. The cause needs to be determined through further investigation.\n",
            "\n",
            "* **Serum Sodium:** 122 mmol/l is below the reference range of 135-146 mmol/l. This indicates hyponatremia (low sodium levels in the blood), which can have various causes and requires further evaluation.\n",
            "\n",
            "* **Serum Chloride:** 97 mmol/l is below the reference range of 98-107 mmol/l.  This is mild hypochloremia (low chloride levels) and should be considered in the context of the hyponatremia.\n",
            "\n",
            "\n",
            "**Values within or borderline of the reference range but warranting consideration in the context of other findings:**\n",
            "\n",
            "* **Lymphocytes:** 31% is on the higher end of the reference range (20-40%).  While not abnormal in isolation, it could be related to the inflammatory process suggested by the ESR.\n",
            "\n",
            "While all other values fall within their respective reference ranges, the abnormalities listed above necessitate further medical evaluation to determine the underlying cause(s).  The combination of a high ESR, hyponatremia, and hypochloremia is particularly concerning and should be investigated promptly.  The positive Widal test should be evaluated in the context of the patient's clinical presentation to rule out current or recent typhoid infection.\n",
            "\n"
          ]
        }
      ]
    },
    {
      "cell_type": "code",
      "source": [
        "def explain_medical_terms(text):\n",
        "  \"\"\"Asks Gemini AI to simplify medical termas for patient understanding.\"\"\"\n",
        "  model = genai.GenerativeModel(\"gemini-1.5-flash\")\n",
        "  prompt = f\"Explain the medical terms in the following health report in simple language:\\n\\n{text}\"\n",
        "  response = model.generate_content(prompt)\n",
        "  return response.text\n",
        "\n",
        "explanation = explain_medical_terms(extracted_text)\n",
        "print(\"Simplified Explanation:\\n\",explanation)"
      ],
      "metadata": {
        "colab": {
          "base_uri": "https://localhost:8080/",
          "height": 1000
        },
        "id": "561Dswx5NkFa",
        "outputId": "3ea937a4-67b8-460e-c28f-c06a4f36d5e2"
      },
      "execution_count": 20,
      "outputs": [
        {
          "output_type": "stream",
          "name": "stdout",
          "text": [
            "Simplified Explanation:\n",
            " This is a medical report for Mr. Kishan Goud. Let's break down the results section by section in plain language:\n",
            "\n",
            "\n",
            "**1. WIDAL TEST (for Typhoid Fever):**\n",
            "\n",
            "* **S. Typhi \"O\" 1:160:** This tests for antibodies to *Salmonella Typhi*, the bacteria causing typhoid fever.  A 1:160 dilution means a significant antibody response, suggesting a past or current typhoid infection.  The reference range (1:20) shows that this result is much higher.\n",
            "* **S. Typhi \"H\" 1:80:** Similar to above, but measures a different type of antibody to *Salmonella Typhi*.  Again, this is elevated compared to the reference range.\n",
            "* **S. Paratyphi \"AH\" 1:20:**  This tests for antibodies against *Salmonella Paratyphi A*, another type of bacteria causing a similar illness.  The result is within the normal range.\n",
            "* **S. Paratyphi \"BH\" 1:20:** This tests for antibodies against *Salmonella Paratyphi B*. The result is within the normal range.\n",
            "\n",
            "**In summary:** The Widal test suggests a possible past or current typhoid fever infection.\n",
            "\n",
            "\n",
            "**2. DENGUE SEROLOGY (for Dengue Fever):**\n",
            "\n",
            "* **Dengue NS1 Antigen:** Negative.  This means the test didn't detect the NS1 protein, which is an indicator of acute dengue infection.\n",
            "* **Dengue IgG:** Negative. This antibody indicates past dengue infection.  A negative result means no past infection was detected.\n",
            "* **Dengue IgM:** Negative. This antibody also indicates a current dengue infection. A negative result means no current infection was detected.\n",
            "\n",
            "**In summary:** The dengue tests all came back negative, indicating no evidence of dengue fever.\n",
            "\n",
            "\n",
            "**3. ERYTHROCYTE SEDIMENTATION RATE (ESR):**\n",
            "\n",
            "* **ESR 1st Hour 26 mm/hr:**  This measures how quickly red blood cells settle at the bottom of a test tube. A higher rate often indicates inflammation or infection in the body.  The result is higher than the normal range (0-8 mm/hr).\n",
            "* **ESR 2nd Hour 52 mm/hr:** The sedimentation rate continues to increase.\n",
            "\n",
            "**In summary:** The elevated ESR suggests the presence of inflammation or infection.\n",
            "\n",
            "\n",
            "**4. RAPID MALARIA TEST:**\n",
            "\n",
            "* **P.V Negative:** Negative for *Plasmodium vivax*, a type of malaria parasite.\n",
            "* **P.F Negative:** Negative for *Plasmodium falciparum*, another type of malaria parasite.\n",
            "\n",
            "**In summary:**  The malaria tests are negative, indicating no malaria infection.\n",
            "\n",
            "\n",
            "**5. COMPLETE BLOOD PICTURE (CBC):**\n",
            "\n",
            "This provides information about various components of the blood:\n",
            "\n",
            "* **Hemoglobin (Hb):** 13.6 g/dL (normal). This is the protein in red blood cells that carries oxygen.\n",
            "* **Red Blood Cells (RBC):** 4.3 million/µL (slightly low, but within the low end of normal range).  These cells carry oxygen throughout the body.\n",
            "* **White Blood Cells (WBC):** 7,200 cells/µL (normal). These cells fight infection.\n",
            "* **Platelet Count:** 2.0 lakhs/µL (normal).  These cells help with blood clotting.\n",
            "* **Packed Cell Volume (PCV):** 40.5% (normal).  This is the percentage of red blood cells in the blood.\n",
            "* **Differential Count:** This breaks down the types of white blood cells.  All values are within the normal range.\n",
            "* **Peripheral Blood Smear:**  The examination of a blood sample under a microscope showed normal red blood cells, normal white blood cell count, and adequate platelets.\n",
            "\n",
            "**In summary:** The CBC shows mostly normal blood counts, with RBC count slightly low but still within a normal range.\n",
            "\n",
            "\n",
            "**6. HbA1c (Glycated Hemoglobin):**\n",
            "\n",
            "* **HbA1c:** 5.4% (normal). This measures average blood sugar levels over the past 2-3 months.  The result indicates good blood sugar control.\n",
            "\n",
            "\n",
            "**7. SERUM CREATININE:**\n",
            "\n",
            "* **Serum Creatinine:** 0.8 mg/dL (normal). This measures kidney function.  The result is within the normal range.\n",
            "\n",
            "\n",
            "**8. RANDOM BLOOD GLUCOSE:**\n",
            "\n",
            "* **Random Blood Glucose:** This is a measure of blood sugar at a random time. The result is not provided in the report.\n",
            "\n",
            "\n",
            "**9. LIVER FUNCTION TEST (LFT):**\n",
            "\n",
            "These tests evaluate liver health:\n",
            "\n",
            "* **Total Bilirubin:** 0.6 mg/dL (normal).  This is a pigment produced when red blood cells break down.\n",
            "* **Direct Bilirubin:** 0.2 mg/dL (normal).\n",
            "* **Indirect Bilirubin:** 0.4 mg/dL (normal).\n",
            "* **Alkaline Phosphatase:** 71 IU/L (normal). An enzyme found in the liver and bones.\n",
            "* **SGOT (AST):** 24 U/L (normal). An enzyme found in the liver and other tissues.\n",
            "* **SGPT (ALT):** 20 U/L (normal). An enzyme found primarily in the liver.\n",
            "* **Total Protein:** 7.3 g/dL (normal).\n",
            "* **Albumin:** 4.0 g/dL (normal). A protein made by the liver.\n",
            "* **Globulin:** 3.3 g/dL (normal).\n",
            "* **A/G Ratio:** 1.2 (normal). The ratio of albumin to globulin.\n",
            "\n",
            "**In summary:** The liver function tests are all within normal limits.\n",
            "\n",
            "\n",
            "**10. SERUM ELECTROLYTES:**\n",
            "\n",
            "These tests measure the levels of minerals in the blood:\n",
            "\n",
            "* **Serum Sodium:** 122 mmol/L (low). This is essential for fluid balance and nerve function.\n",
            "* **Serum Potassium:** 3.5 mmol/L (normal).  Important for muscle and nerve function.\n",
            "* **Serum Chloride:** 97 mmol/L (slightly low). Involved in fluid balance.\n",
            "\n",
            "**In summary:** Sodium and Chloride are slightly below the normal range. Potassium is normal.\n",
            "\n",
            "\n",
            "\n",
            "**Overall Summary:**\n",
            "\n",
            "Mr. Kishan Goud's results show some abnormalities (elevated ESR, slightly low RBC and low Sodium and Chloride), suggesting possible infection or inflammation.  However, the negative dengue and malaria tests and mostly normal liver and kidney function are reassuring. The high antibody levels to *Salmonella Typhi* suggest a possible past or present typhoid infection should be investigated further by his doctor.  The slightly low values (RBC, Sodium, Chloride) should also be investigated to determine if they represent a clinical problem.  His doctor should correlate these findings with his clinical presentation to determine the best course of action.  This explanation is for informational purposes only and should not be considered medical advice. A physician should interpret this report in the context of the patient's medical history and clinical presentation.\n",
            "\n"
          ]
        }
      ]
    },
    {
      "cell_type": "code",
      "source": [
        "def ask_gemini_about_report(text, question):\n",
        "  \"\"\"Allows users to ask questions about their health report.\"\"\"\n",
        "  model = genai.GenerativeModel(\"gemini-1.5-flash\")\n",
        "  prompt = f\"The following is a health report:\\n\\n{text}\\n\\nAnswer the following question based on the report:\\n{question}\"\n",
        "  response = model.generate_content(prompt)\n",
        "  return response.text\n",
        "\n",
        "question =\"What is the patient's diagnosis?\"\n",
        "answer = ask_gemini_about_report(extracted_text, question)\n",
        "print(\"Answer:\\n\", answer)"
      ],
      "metadata": {
        "colab": {
          "base_uri": "https://localhost:8080/",
          "height": 89
        },
        "id": "Xe7bAMgyNkC2",
        "outputId": "02fecac5-d5a6-4a72-cc63-c32831494310"
      },
      "execution_count": 21,
      "outputs": [
        {
          "output_type": "stream",
          "name": "stdout",
          "text": [
            "Answer:\n",
            " The provided lab report does not offer a diagnosis.  It presents a collection of test results.  Some results are outside the reference ranges (e.g., elevated ESR), but this alone is not sufficient for a diagnosis.  A physician would need to interpret these results in the context of the patient's symptoms, medical history, and physical examination to arrive at a diagnosis.\n",
            "\n"
          ]
        }
      ]
    }
  ]
}
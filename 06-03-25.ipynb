{
 "cells": [
  {
   "cell_type": "code",
   "execution_count": 1,
   "id": "77947332",
   "metadata": {},
   "outputs": [],
   "source": [
    "import nltk\n",
    "\n",
    "import re\n",
    "\n",
    "from nltk.chat.util import Chat, reflections"
   ]
  },
  {
   "cell_type": "code",
   "execution_count": 2,
   "id": "6f46090c",
   "metadata": {},
   "outputs": [
    {
     "name": "stderr",
     "output_type": "stream",
     "text": [
      "[nltk_data] Downloading package punkt to\n",
      "[nltk_data]     C:\\Users\\Kasir\\AppData\\Roaming\\nltk_data...\n",
      "[nltk_data]   Package punkt is already up-to-date!\n",
      "[nltk_data] Downloading package averaged_perceptron_tagger to\n",
      "[nltk_data]     C:\\Users\\Kasir\\AppData\\Roaming\\nltk_data...\n",
      "[nltk_data]   Package averaged_perceptron_tagger is already up-to-\n",
      "[nltk_data]       date!\n"
     ]
    },
    {
     "data": {
      "text/plain": [
       "True"
      ]
     },
     "execution_count": 2,
     "metadata": {},
     "output_type": "execute_result"
    }
   ],
   "source": [
    "# Download NLTK data\n",
    "\n",
    "nltk.download('punkt')\n",
    "\n",
    "nltk.download('averaged_perceptron_tagger')"
   ]
  },
  {
   "cell_type": "code",
   "execution_count": 3,
   "id": "92f5c303",
   "metadata": {},
   "outputs": [],
   "source": [
    "# Define patterns and responses\n",
    "\n",
    "pairs = [\n",
    "\n",
    "    [r\"my name is (.*)\", [\"Hello %1, how can I assist you today?\",]],\n",
    "\n",
    "    [r\"hi|hey|hello\", [\"Hello, how can I help you?\", \"Hey there! What can I do for you?\", \n",
    "\n",
    "                       \"Hi! How can I assist you today?\"]],\n",
    "\n",
    "    [r\"what is your name?\", [\"I am a chatbot created to assist you. You can call me Chatbot.\",]],\n",
    "\n",
    "    [r\"how are you?\", [\"I'm a bot, so I don't have feelings, but I'm here to help you!\",]],\n",
    "\n",
    "    [r\"can you help me with (.*)\", [\"Sure, I can help you with %1. Please provide more details.\",]],\n",
    "\n",
    "    [r\"sorry (.*)\", [\"It's okay. How can I assist you?\",]],\n",
    "\n",
    "    [r\"thank you|thanks\", [\"You're welcome!\", \"No problem!\", \"Happy to help!\"]],\n",
    "\n",
    "    [r\"quit\", [\"Bye! Have a great day!\", \"Goodbye!\"]],\n",
    "\n",
    "    [r\"best place (.*)\", [\"Hyderabad\",\"Banglore\",\"Vizag\", \"Mumbai\"]],\n",
    "\n",
    "    [r\"golden|temple (.*)\", [\"It is in amritsar\"]],\n",
    "\n",
    "    [r\"(.*)\", [\"I'm sorry, I don't understand that. Can you rephrase?\", \n",
    "\n",
    "               \"Could you please elaborate on that?\"]]]"
   ]
  },
  {
   "cell_type": "code",
   "execution_count": 4,
   "id": "29c2c862",
   "metadata": {},
   "outputs": [],
   "source": [
    "# Define the chatbot class\n",
    "\n",
    "class RBChatbot:\n",
    "\n",
    "    def __init__(self, pairs):\n",
    "\n",
    "        self.chat = Chat(pairs, reflections)\n",
    "\n",
    "        \n",
    "\n",
    "    def respond(self, user_input):\n",
    "\n",
    "        return self.chat.respond(user_input)\n",
    "\n",
    " # Initialize the chatbot\n",
    "\n",
    "chatbot = RBChatbot(pairs)"
   ]
  },
  {
   "cell_type": "code",
   "execution_count": 5,
   "id": "855e8275",
   "metadata": {},
   "outputs": [
    {
     "name": "stdout",
     "output_type": "stream",
     "text": [
      "Hi, I'm your chatbot. Type 'quit' to exit.\n",
      "You: hi\n",
      "Chatbot: Hello, how can I help you?\n",
      "You: my name is Rakshitha\n",
      "Chatbot: Hello rakshitha, how can I assist you today?\n",
      "You: how are you doing today?\n",
      "Chatbot: I'm a bot, so I don't have feelings, but I'm here to help you!\n",
      "You: best place to visit\n",
      "Chatbot: Vizag\n",
      "You: where is RK beach\n",
      "Chatbot: Could you please elaborate on that?\n",
      "You: nothing\n",
      "Chatbot: I'm sorry, I don't understand that. Can you rephrase?\n",
      "You: hello!\n",
      "Chatbot: Hello, how can I help you?\n",
      "You: how are you? \n",
      "Chatbot: I'm a bot, so I don't have feelings, but I'm here to help you!\n",
      "You: i am not doing well  \n",
      "Chatbot: Could you please elaborate on that?\n",
      "You: noo\n",
      "Chatbot: Could you please elaborate on that?\n",
      "You: hii\n",
      "Chatbot: Hi! How can I assist you today?\n",
      "You: my name is vaishnavi\n",
      "Chatbot: Hello vaishnavi, how can I assist you today?\n",
      "You: my name is nikhitha\n",
      "Chatbot: Hello nikhitha, how can I assist you today?\n",
      "You: my name is joysmary\n",
      "Chatbot: Hello joysmary, how can I assist you today?\n",
      "You: my name is srikruthi\n",
      "Chatbot: Hello srikruthi, how can I assist you today?\n",
      "You: quit\n",
      "Chatbot: Bye! Have a great day!\n"
     ]
    }
   ],
   "source": [
    "\n",
    "def chat_with_bot():\n",
    "\n",
    "    print(\"Hi, I'm your chatbot. Type 'quit' to exit.\")\n",
    "\n",
    "    while True:\n",
    "\n",
    "        user_input = input(\"You: \")\n",
    "\n",
    "        if user_input.lower() == 'quit':\n",
    "\n",
    "            print(\"Chatbot: Bye! Have a great day!\")\n",
    "\n",
    "            break\n",
    "\n",
    "        response = chatbot.respond(user_input)\n",
    "\n",
    "        print(f\"Chatbot: {response}\")\n",
    "\n",
    "\n",
    "# Start chatting with the bot\n",
    "\n",
    "chat_with_bot()\n"
   ]
  },
  {
   "cell_type": "code",
   "execution_count": null,
   "id": "ff9b4759",
   "metadata": {},
   "outputs": [],
   "source": [
    "pip install transformers torch\n"
   ]
  },
  {
   "cell_type": "code",
   "execution_count": null,
   "id": "194da98d",
   "metadata": {},
   "outputs": [],
   "source": [
    "# Function to chat with the bot\n",
    "\n",
    "def chat_with_bot():\n",
    "\n",
    "    print(\"Hi, I'm your chatbot. Type 'quit' to exit.\")\n",
    "\n",
    "    while True:\n",
    "\n",
    "        user_input = input(\"You: \")\n",
    "\n",
    "        if user_input.lower() == 'quit':\n",
    "\n",
    "            print(\"Chatbot: Bye! Have a great day!\")\n",
    "\n",
    "            break\n",
    "\n",
    "        response = chatbot.respond(user_input)\n",
    "\n",
    "        print(f\"Chatbot: {response}\")\n",
    "\n",
    "\n",
    "# Start chatting with the bot\n",
    "\n",
    "chat_with_bot()\n"
   ]
  },
  {
   "cell_type": "code",
   "execution_count": null,
   "id": "bd501a45",
   "metadata": {},
   "outputs": [],
   "source": [
    "# Define the context (passage) and question\n",
    "\n",
    "context = \"\"\"The Eiffel Tower is a wrought-iron lattice tower on the Champ de Mars in Paris, France. \n",
    "\n",
    "It is named after the engineer Gustave Eiffel, whose company designed and built the tower.\"\"\"\n",
    "\n",
    "question = \"Who designed the Eiffel Tower?\"\n",
    "\n",
    "# Tokenize the input\n",
    "\n",
    "inputs = tokenizer(question, context, return_tensors=\"pt\")\n",
    "\n",
    "# Get model output (start and end index of answer)\n",
    "\n",
    "with torch.no_grad():\n",
    "\n",
    "    outputs = model(**inputs)\n",
    "\n",
    "    start_scores = outputs.start_logits\n",
    "\n",
    "    end_scores = outputs.end_logits\n"
   ]
  },
  {
   "cell_type": "code",
   "execution_count": null,
   "id": "07eb7ab6",
   "metadata": {},
   "outputs": [],
   "source": [
    "# Get the most probable answer span\n",
    "\n",
    "start_idx = torch.argmax(start_scores)\n",
    "\n",
    "end_idx = torch.argmax(end_scores) + 1\n",
    "\n",
    "# Decode the answer\n",
    "\n",
    "answer = tokenizer.convert_tokens_to_string(tokenizer.convert_ids_to_tokens(inputs[\"input_ids\"][0][start_idx:end_idx]))\n",
    "\n",
    "print(f\"Answer: {answer}\")\n"
   ]
  },
  {
   "cell_type": "code",
   "execution_count": null,
   "id": "93b1175f",
   "metadata": {},
   "outputs": [],
   "source": [
    "context1 =\"\"\"Coronavirus disease 2019 (COVID-19, also known as SARS-2) is a contagious disease \n",
    "\n",
    "caused by the coronavirus SARS-CoV-2. In January 2020, the disease spread worldwide, \n",
    "\n",
    "resulting in the COVID-19 pandemic.\"\"\"\n",
    "\n",
    "question1 = \"what is the cause for coronavirus?\"\n",
    "\n",
    "# Tokenize the input\n",
    "\n",
    "inputs = tokenizer(question1, context1, return_tensors=\"pt\")\n"
   ]
  },
  {
   "cell_type": "code",
   "execution_count": null,
   "id": "983aa3f6",
   "metadata": {},
   "outputs": [],
   "source": []
  }
 ],
 "metadata": {
  "kernelspec": {
   "display_name": "Python 3 (ipykernel)",
   "language": "python",
   "name": "python3"
  },
  "language_info": {
   "codemirror_mode": {
    "name": "ipython",
    "version": 3
   },
   "file_extension": ".py",
   "mimetype": "text/x-python",
   "name": "python",
   "nbconvert_exporter": "python",
   "pygments_lexer": "ipython3",
   "version": "3.11.4"
  }
 },
 "nbformat": 4,
 "nbformat_minor": 5
}

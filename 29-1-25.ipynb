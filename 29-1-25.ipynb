{
 "cells": [
  {
   "cell_type": "code",
   "execution_count": 5,
   "id": "8686596f",
   "metadata": {},
   "outputs": [
    {
     "name": "stdout",
     "output_type": "stream",
     "text": [
      "AnB =  {1, 2}\n",
      "AUB =  {1, 2, 3, 4, 5, 6, 8, 9}\n",
      "J(A,B) =  0.25\n"
     ]
    }
   ],
   "source": [
    "A = {1,2,3,4,6}\n",
    "B = {1,2,5,8,9}\n",
    "C = A.intersection(B)\n",
    "D = A.union(B)\n",
    "print('AnB = ', C)\n",
    "print('AUB = ', D)\n",
    "print('J(A,B) = ',float(len(C))/float(len(D)))\n"
   ]
  },
  {
   "cell_type": "code",
   "execution_count": 6,
   "id": "b02b1e27",
   "metadata": {},
   "outputs": [
    {
     "name": "stdout",
     "output_type": "stream",
     "text": [
      "Jacard Similarity: 0.375\n"
     ]
    }
   ],
   "source": [
    "def jacard_similarity(set1, set2):\n",
    "    intersection = len(set1.intersection(set2))\n",
    "    union = len(set1.union(set2))\n",
    "    return intersection / union\n",
    "set_a ={\"Language\", \"for\", \"Computer\", \"NLP\", \"Science\"}\n",
    "set_b = {\"NLP\", \"for\", \"Language\", \"Data\", \"ML\", \"AI\"}\n",
    "similarity = jacard_similarity(set_a, set_b)\n",
    "print(\"Jacard Similarity:\", similarity)"
   ]
  },
  {
   "cell_type": "code",
   "execution_count": 7,
   "id": "78d1fa58",
   "metadata": {},
   "outputs": [],
   "source": [
    "import numpy as np\n",
    "\n",
    "from sklearn.feature_extraction.text import TfidfVectorizer\n",
    "\n",
    "from sklearn.metrics.pairwise import cosine_similarity\n",
    "\n",
    "\n",
    "\n",
    "\n"
   ]
  },
  {
   "cell_type": "code",
   "execution_count": 8,
   "id": "0a3cb144",
   "metadata": {},
   "outputs": [],
   "source": [
    "# Step 1: Define predefined chatbot responses\n",
    "\n",
    "responses = [\n",
    "\n",
    "    \"You can return an item within 7 days of purchase.\",\n",
    "\n",
    "    \"Our return policy allows you to return items that are unopened and in their original condition.\",\n",
    "\n",
    "    \"We offer free shipping on orders over $50.\",\n",
    "\n",
    "    \"To track your order, you can visit the 'Order Tracking' page and enter your order number.\",\n",
    "\n",
    "    \"Our customer support team is available from 9 AM to 6 PM, Monday through Friday.\"\n",
    "\n",
    "]\n",
    "\n",
    "\n",
    "\n",
    "\n"
   ]
  },
  {
   "cell_type": "code",
   "execution_count": 9,
   "id": "a7dd998a",
   "metadata": {},
   "outputs": [],
   "source": [
    "# Step 2: Sample user input (this would come from a user in a real chatbot)\n",
    "\n",
    "user_input = \"How can I track my order?\"\n",
    "\n",
    "\n",
    "\n",
    "\n"
   ]
  },
  {
   "cell_type": "code",
   "execution_count": 10,
   "id": "486f8ca2",
   "metadata": {},
   "outputs": [],
   "source": [
    "# Step 3: Preprocess the text using TF-IDF Vectorization\n",
    "\n",
    "vectorizer = TfidfVectorizer(stop_words='english')  # Removing stopwords like 'the', 'is', etc.\n",
    "\n",
    "all_texts = responses + [user_input]  # Combine responses with the user input for vectorization\n",
    "\n",
    "\n",
    "\n",
    "\n"
   ]
  },
  {
   "cell_type": "code",
   "execution_count": 11,
   "id": "14270d4c",
   "metadata": {},
   "outputs": [],
   "source": [
    "# Step 4: Convert the text to TF-IDF vectors\n",
    "\n",
    "tfidf_matrix = vectorizer.fit_transform(all_texts)\n",
    "\n",
    "\n",
    "\n",
    "\n"
   ]
  },
  {
   "cell_type": "code",
   "execution_count": 13,
   "id": "58944dbd",
   "metadata": {},
   "outputs": [],
   "source": [
    "# Step 5: Compute cosine similarity between the user input and all responses\n",
    "\n",
    "user_vector = tfidf_matrix[-1]  \n",
    "\n",
    "response_vectors = tfidf_matrix[:-1]  \n",
    "\n",
    "\n",
    "cosine_similarities = cosine_similarity(user_vector, response_vectors)\n",
    "\n",
    "\n",
    "\n",
    "\n"
   ]
  },
  {
   "cell_type": "code",
   "execution_count": 14,
   "id": "3256c6cb",
   "metadata": {},
   "outputs": [],
   "source": [
    "# Step 6: Find the most similar response\n",
    "\n",
    "most_similar_idx = np.argmax(cosine_similarities)  # Find the index of the most similar response\n",
    "\n",
    "\n",
    "\n",
    "\n"
   ]
  },
  {
   "cell_type": "code",
   "execution_count": 15,
   "id": "d33bc8ff",
   "metadata": {},
   "outputs": [
    {
     "name": "stdout",
     "output_type": "stream",
     "text": [
      "User Query: How can I track my order?\n",
      "Most relevant response: To track your order, you can visit the 'Order Tracking' page and enter your order number.\n"
     ]
    }
   ],
   "source": [
    "# Step 7: Display the most relevant response\n",
    "\n",
    "print(f\"User Query: {user_input}\")\n",
    "\n",
    "print(f\"Most relevant response: {responses[most_similar_idx]}\")\n",
    "\n",
    "\n",
    "\n",
    "\n"
   ]
  },
  {
   "cell_type": "code",
   "execution_count": null,
   "id": "4101028b",
   "metadata": {},
   "outputs": [],
   "source": []
  }
 ],
 "metadata": {
  "kernelspec": {
   "display_name": "Python 3 (ipykernel)",
   "language": "python",
   "name": "python3"
  },
  "language_info": {
   "codemirror_mode": {
    "name": "ipython",
    "version": 3
   },
   "file_extension": ".py",
   "mimetype": "text/x-python",
   "name": "python",
   "nbconvert_exporter": "python",
   "pygments_lexer": "ipython3",
   "version": "3.11.4"
  }
 },
 "nbformat": 4,
 "nbformat_minor": 5
}

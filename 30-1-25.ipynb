{
 "cells": [
  {
   "cell_type": "code",
   "execution_count": 1,
   "id": "ff1ab0f2",
   "metadata": {},
   "outputs": [],
   "source": [
    "import io\n",
    "\n",
    "import random\n",
    "\n",
    "import string\n",
    "\n",
    "import warnings\n",
    "\n",
    "warnings.filterwarnings('ignore')\n",
    "\n",
    "import numpy as np\n",
    "\n",
    "from sklearn.feature_extraction.text import TfidfVectorizer \n",
    "\n",
    "from sklearn.metrics.pairwise import cosine_similarity\n",
    "\n",
    "from nltk.stem import WordNetLemmatizer\n",
    "\n",
    "\n",
    "\n",
    "\n"
   ]
  },
  {
   "cell_type": "code",
   "execution_count": 3,
   "id": "1876fa7c",
   "metadata": {},
   "outputs": [],
   "source": [
    "#!pip install nltk\n",
    "\n",
    "import nltk\n",
    "\n",
    "\n",
    "\n",
    "\n"
   ]
  },
  {
   "cell_type": "code",
   "execution_count": 5,
   "id": "54950636",
   "metadata": {},
   "outputs": [
    {
     "name": "stderr",
     "output_type": "stream",
     "text": [
      "[nltk_data] Downloading package punkt to\n",
      "[nltk_data]     C:\\Users\\Kasir\\AppData\\Roaming\\nltk_data...\n",
      "[nltk_data]   Package punkt is already up-to-date!\n",
      "[nltk_data] Downloading package wordnet to\n",
      "[nltk_data]     C:\\Users\\Kasir\\AppData\\Roaming\\nltk_data...\n",
      "[nltk_data]   Package wordnet is already up-to-date!\n"
     ]
    },
    {
     "data": {
      "text/plain": [
       "True"
      ]
     },
     "execution_count": 5,
     "metadata": {},
     "output_type": "execute_result"
    }
   ],
   "source": [
    "nltk.download('popular', quiet=True)\n",
    "nltk.download('punkt') \n",
    "\n",
    "nltk.download('wordnet') \n",
    "\n",
    "\n",
    "\n",
    "\n"
   ]
  },
  {
   "cell_type": "code",
   "execution_count": 8,
   "id": "2ae4da70",
   "metadata": {},
   "outputs": [],
   "source": [
    "f=open('Project.txt','r',errors = 'ignore')\n",
    "raw = f.read()\n",
    "raw = raw.lower()"
   ]
  },
  {
   "cell_type": "code",
   "execution_count": 9,
   "id": "eb331fcf",
   "metadata": {},
   "outputs": [],
   "source": [
    "import nltk\n",
    "\n",
    "sent_tokens = nltk.sent_tokenize(raw)# converts to list of sentences \n",
    "\n",
    "word_tokens = nltk.word_tokenize(raw)# converts to list of words\n",
    "\n",
    "\n",
    "\n",
    "\n"
   ]
  },
  {
   "cell_type": "code",
   "execution_count": 10,
   "id": "62a6bcf3",
   "metadata": {},
   "outputs": [],
   "source": [
    "lemmer = nltk.stem.WordNetLemmatizer()\n",
    "\n",
    "#WordNet is a semantically-oriented dictionary of English included in NLTK.\n",
    "\n",
    "def LemTokens(tokens):\n",
    "\n",
    "    return [lemmer.lemmatize(token) for token in tokens]\n",
    "\n",
    " \n",
    "\n",
    "remove_punct_dict = dict((ord(punct), None) for punct in string.punctuation)\n",
    "\n",
    " \n",
    "\n",
    "def LemNormalize(text):\n",
    "\n",
    "    return LemTokens(nltk.word_tokenize(text.lower().translate(remove_punct_dict)))\n",
    "\n",
    "\n",
    "\n",
    "\n"
   ]
  },
  {
   "cell_type": "code",
   "execution_count": 11,
   "id": "8a324870",
   "metadata": {},
   "outputs": [],
   "source": [
    "GREETING_INPUTS = (\"hello\", \"hi\", \"greetings\", \"what's up\",\"hey\",\\\n",
    "\n",
    "                   \"how are you?\")\n",
    "\n",
    "GREETING_RESPONSES = [\"hi\", \"hey\", \"hi there\", \"hello\", \\\n",
    "\n",
    "                      \"I am glad! You are talking to me\", \\\n",
    "\n",
    "                      \"I am fine! How about you?\"]\n",
    "\n",
    "def greeting(sentence): \n",
    "\n",
    "    for word in sentence.split():\n",
    "\n",
    "        if word.lower() in GREETING_INPUTS:\n",
    "\n",
    "            return random.choice(GREETING_RESPONSES)\n",
    "\n",
    "\n",
    "\n",
    "\n"
   ]
  },
  {
   "cell_type": "code",
   "execution_count": 12,
   "id": "fa2a4dca",
   "metadata": {},
   "outputs": [],
   "source": [
    "def response(user_response):\n",
    "\n",
    "    robo_response=''\n",
    "\n",
    "    sent_tokens.append(user_response)\n",
    "\n",
    "    TfidfVec = TfidfVectorizer(tokenizer=LemNormalize, stop_words='english')\n",
    "\n",
    "    tfidf = TfidfVec.fit_transform(sent_tokens)\n",
    "\n",
    "    vals = cosine_similarity(tfidf[-1], tfidf)\n",
    "\n",
    "    idx=vals.argsort()[0][-2]\n",
    "\n",
    "    flat = vals.flatten()\n",
    "\n",
    "    flat.sort()\n",
    "\n",
    "    req_tfidf = flat[-2]\n",
    "\n",
    "    if(req_tfidf==0):\n",
    "\n",
    "        robo_response=robo_response+\"I am sorry! I don't understand you.\"\n",
    "\n",
    "        return robo_response\n",
    "\n",
    "    else:\n",
    "\n",
    "        robo_response = robo_response+sent_tokens[idx]\n",
    "\n",
    "        return robo_response\n",
    "\n",
    "\n",
    "\n",
    "\n"
   ]
  },
  {
   "cell_type": "code",
   "execution_count": 14,
   "id": "88f7dc65",
   "metadata": {},
   "outputs": [
    {
     "name": "stdout",
     "output_type": "stream",
     "text": [
      "SABot: My name is SABot. How can I assist you?.If you want to exit, type Bye!\n",
      "bye\n",
      "SABot: Bye! take care...\n"
     ]
    }
   ],
   "source": [
    "flag=True\n",
    "\n",
    "print(\"SABot: My name is SABot. How can I assist you?.If you want to exit, type Bye!\") \n",
    "\n",
    "\n",
    "\n",
    "while(flag==True):\n",
    "\n",
    "    user_response = input()\n",
    "\n",
    "    user_response=user_response.lower()\n",
    "\n",
    "    if(user_response!='bye'):\n",
    "\n",
    "        if(user_response=='thanks' or user_response=='thank you' ):\n",
    "\n",
    "            flag=False\n",
    "\n",
    "            print(\"SABot: You are welcome...\")\n",
    "\n",
    "        else:\n",
    "\n",
    "            if(greeting(user_response)!=None):\n",
    "\n",
    "                print(\"SABot: \"+greeting(user_response))\n",
    "\n",
    "            else:\n",
    "\n",
    "                print(\"SABot: \",end=\" \")\n",
    "\n",
    "                print(response(user_response))\n",
    "\n",
    "                sent_tokens.remove(user_response)\n",
    "\n",
    "    else:\n",
    "\n",
    "        flag=False\n",
    "\n",
    "        print(\"SABot: Bye! take care...\")\n",
    "\n",
    "\n",
    "\n",
    "\n"
   ]
  },
  {
   "cell_type": "code",
   "execution_count": null,
   "id": "31598b75",
   "metadata": {},
   "outputs": [],
   "source": []
  }
 ],
 "metadata": {
  "kernelspec": {
   "display_name": "Python 3 (ipykernel)",
   "language": "python",
   "name": "python3"
  },
  "language_info": {
   "codemirror_mode": {
    "name": "ipython",
    "version": 3
   },
   "file_extension": ".py",
   "mimetype": "text/x-python",
   "name": "python",
   "nbconvert_exporter": "python",
   "pygments_lexer": "ipython3",
   "version": "3.11.4"
  }
 },
 "nbformat": 4,
 "nbformat_minor": 5
}
